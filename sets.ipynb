{
 "cells": [
  {
   "cell_type": "code",
   "execution_count": 1,
   "id": "6cadb0de",
   "metadata": {},
   "outputs": [
    {
     "name": "stdout",
     "output_type": "stream",
     "text": [
      "{1, 2, 3, 4, 5, 6, 7, 8, 9, 10}\n",
      "{1, 2, 3, 4, 5, 6, 7, 8, 9, 10}\n"
     ]
    }
   ],
   "source": [
    "#set operations\n",
    "#union\n",
    "s1={1,2,3,4,5}\n",
    "s2={6,7,8,9,10}\n",
    "s3=s1|s2\n",
    "#or we can also use of\n",
    "s4=s1.union(s2)\n",
    "print(s3)\n",
    "print(s4)\n"
   ]
  },
  {
   "cell_type": "code",
   "execution_count": 8,
   "id": "14ce97a5",
   "metadata": {},
   "outputs": [
    {
     "name": "stdout",
     "output_type": "stream",
     "text": [
      "{1, 2, 5}\n",
      "{1, 2, 5}\n"
     ]
    }
   ],
   "source": [
    "#intersect\n",
    "s1={1,2,3,4,5}\n",
    "s2={5,2,6,7,1}\n",
    "s3=s1&s2\n",
    "#or\n",
    "s4=s1.intersection(s2)\n",
    "print(s3)\n",
    "print(s4)"
   ]
  },
  {
   "cell_type": "code",
   "execution_count": 14,
   "id": "f87d54cd",
   "metadata": {},
   "outputs": [
    {
     "name": "stdout",
     "output_type": "stream",
     "text": [
      "{1, 2, 4, 8, 73, 11, 92}\n",
      "{6, 7, 9, 10, 14, 15, 22, 86}\n",
      "{1, 2, 4, 6, 7, 8, 9, 10, 73, 11, 14, 15, 22, 86, 92}\n"
     ]
    }
   ],
   "source": [
    "#diffrence\n",
    "s1={1,2,3,4,5,8,11,92,73}\n",
    "s2={14,15,3,5,6,7,9,10,22,86}\n",
    "s3=s1-s2\n",
    "print(s3)\n",
    "#or\n",
    "s4=s2-s1\n",
    "print(s4)\n",
    "\n",
    "#symmetric diffrence\n",
    "s5=s1^s2\n",
    "print(s5)"
   ]
  },
  {
   "cell_type": "code",
   "execution_count": 18,
   "id": "ca642c2b",
   "metadata": {},
   "outputs": [
    {
     "name": "stdout",
     "output_type": "stream",
     "text": [
      "True\n",
      "True\n",
      "True\n",
      "True\n"
     ]
    }
   ],
   "source": [
    "#if set is subset of another set\n",
    "s1={99,6,85,29,2,55,25}\n",
    "s2={85,55,25}\n",
    "print(s2.issubset(s1))        #true\n",
    "print(s2<s1)                  #true\n",
    "\n",
    "#if set is superset of another set\n",
    "print(s1.issuperset(s2))       #true\n",
    "print(s1>s2)                   #true\n"
   ]
  },
  {
   "cell_type": "code",
   "execution_count": 22,
   "id": "8ab1488c",
   "metadata": {},
   "outputs": [
    {
     "name": "stdout",
     "output_type": "stream",
     "text": [
      "True\n",
      "{'python', 10, 76, 45, 23, 89}\n",
      "{10, 76, 45, 23, 89}\n",
      "{10, 45, 23, 89}\n"
     ]
    }
   ],
   "source": [
    "#disjoin set = if both sets arehaving diffrent element without a single common element\n",
    "s1={10,23,45,76,99}\n",
    "s2={15,33,66}\n",
    "print(s1.isdisjoint(s2))    #true\n",
    "\n",
    "s1={10,23,45,76,89}\n",
    "s1.add('python')\n",
    "print(s1)\n",
    "\n",
    "s1.pop()\n",
    "print(s1)\n",
    "\n",
    "s1.remove(76)\n",
    "print(s1)"
   ]
  },
  {
   "cell_type": "code",
   "execution_count": 24,
   "id": "753e42f9",
   "metadata": {},
   "outputs": [
    {
     "name": "stdout",
     "output_type": "stream",
     "text": [
      "{2}\n",
      "{2, 4}\n",
      "{2, 4, 6}\n",
      "{8, 2, 4, 6}\n",
      "{2, 4, 6, 8, 10}\n",
      "{2, 4, 6, 8, 10, 12}\n",
      "{2, 4, 6, 8, 10, 12, 14}\n",
      "{2, 4, 6, 8, 10, 12, 14, 16}\n",
      "{2, 4, 6, 8, 10, 12, 14, 16, 18}\n",
      "{2, 4, 6, 8, 10, 12, 14, 16, 18, 20}\n",
      "{2, 4, 6, 8, 10, 12, 14, 16, 18, 20, 22}\n",
      "{2, 4, 6, 8, 10, 12, 14, 16, 18, 20, 22, 24}\n",
      "{2, 4, 6, 8, 10, 12, 14, 16, 18, 20, 22, 24, 26}\n",
      "{2, 4, 6, 8, 10, 12, 14, 16, 18, 20, 22, 24, 26, 28}\n",
      "{2, 4, 6, 8, 10, 12, 14, 16, 18, 20, 22, 24, 26, 28, 30}\n",
      "{32, 2, 4, 6, 8, 10, 12, 14, 16, 18, 20, 22, 24, 26, 28, 30}\n",
      "{32, 2, 34, 4, 6, 8, 10, 12, 14, 16, 18, 20, 22, 24, 26, 28, 30}\n",
      "{32, 2, 34, 4, 36, 6, 8, 10, 12, 14, 16, 18, 20, 22, 24, 26, 28, 30}\n",
      "{2, 4, 6, 8, 10, 12, 14, 16, 18, 20, 22, 24, 26, 28, 30, 32, 34, 36, 38}\n",
      "{2, 4, 6, 8, 10, 12, 14, 16, 18, 20, 22, 24, 26, 28, 30, 32, 34, 36, 38, 40}\n",
      "{2, 4, 6, 8, 10, 12, 14, 16, 18, 20, 22, 24, 26, 28, 30, 32, 34, 36, 38, 40, 42}\n",
      "{2, 4, 6, 8, 10, 12, 14, 16, 18, 20, 22, 24, 26, 28, 30, 32, 34, 36, 38, 40, 42, 44}\n",
      "{2, 4, 6, 8, 10, 12, 14, 16, 18, 20, 22, 24, 26, 28, 30, 32, 34, 36, 38, 40, 42, 44, 46}\n",
      "{2, 4, 6, 8, 10, 12, 14, 16, 18, 20, 22, 24, 26, 28, 30, 32, 34, 36, 38, 40, 42, 44, 46, 48}\n",
      "{2, 4, 6, 8, 10, 12, 14, 16, 18, 20, 22, 24, 26, 28, 30, 32, 34, 36, 38, 40, 42, 44, 46, 48, 50}\n",
      "{2, 4, 6, 8, 10, 12, 14, 16, 18, 20, 22, 24, 26, 28, 30, 32, 34, 36, 38, 40, 42, 44, 46, 48, 50}\n"
     ]
    }
   ],
   "source": [
    "#set comprhension\n",
    "even_set=set()\n",
    "for i in range(1,51):\n",
    "    if i%2==0:\n",
    "        even_set.add(i)\n",
    "        print(even_set)\n",
    "        \n",
    "#or\n",
    "even={i for i in range(1,51) if i%2==0}\n",
    "print(even)"
   ]
  },
  {
   "cell_type": "code",
   "execution_count": null,
   "id": "9bce08e4",
   "metadata": {},
   "outputs": [],
   "source": [
    "#diffrences between inbuilt datastructres\n",
    "# list\n",
    "#  list it is a collection of homogeneous as well heterogeneous data and it is shown in [] square bracket\n",
    "#  indivisual element of a list can be accesed by using index of operator '[]'\n",
    "#  both positive and negative index will be used to access indivisual element\n",
    "# list can be used for any types of object from numbers and strings\n",
    "#  list are simple to use and they are variable length, i.e they grow and shrink automatically as they're used.\n",
    "# ex : lst=[10,20,30,43,50]\n",
    "#       lst=[1,2,[4,5],(5,6),{7,8},{1:10,2:20}]\n",
    "\n",
    "#tuples\n",
    "#  tuple is an orderd collection of both homogeneous and heterogeneous data it is shown in '()' round bracket\n",
    "#  elements will be accessed by slicing\n",
    "#  tuple is immutable in nature hence we can not make addition, removal nd modification of element, \n",
    "#  in general tuple is immutable list hence length is fixed\n",
    "# ex : tup=([1,2],(3,2),{5,6},{'a':100,'b':200})\n",
    "#       tup=(1,2,3,4,5)        \n",
    "        \n",
    "#sets\n",
    "# set are the collection of unorderded collection of data.it is shown in curly bracket '{}'\n",
    "# set doesnot allow duplicates means only unique values are stored inside a set\n",
    "# mutable data cannot be storedin a set(list,set,dictionary)\n",
    "# set operations such as union,intersection,diffrence,can be applied on a set\n",
    "# ex  : set={11,25,33,45,54,6}\n",
    "#        set1={11,25.2,,'zoom',true,5i+6j}\n",
    "\n",
    "#dictionary\n",
    "#  dictionaries are made up of key-value pair\n",
    "#  prperties of keys & values\n",
    "#  *key is used to identify the item\n",
    "#    it must be unique & simple\n",
    "#    key must be immutable object\n",
    "#    values holds as the name suggests, the value of the item\n",
    "#    value can be anything(both mutable and immutable)\n",
    "#  ex  :dict={1:10,2:10,3:true,4:5+6j,6:[10,20],7:{1:'a'}}"
   ]
  }
 ],
 "metadata": {
  "kernelspec": {
   "display_name": "Python 3",
   "language": "python",
   "name": "python3"
  },
  "language_info": {
   "codemirror_mode": {
    "name": "ipython",
    "version": 3
   },
   "file_extension": ".py",
   "mimetype": "text/x-python",
   "name": "python",
   "nbconvert_exporter": "python",
   "pygments_lexer": "ipython3",
   "version": "3.8.8"
  }
 },
 "nbformat": 4,
 "nbformat_minor": 5
}
