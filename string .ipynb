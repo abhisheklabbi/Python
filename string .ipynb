{
 "cells": [
  {
   "cell_type": "code",
   "execution_count": 41,
   "id": "659708aa",
   "metadata": {},
   "outputs": [
    {
     "name": "stdout",
     "output_type": "stream",
     "text": [
      "this is python session\n"
     ]
    }
   ],
   "source": [
    "#some inbuilt functions \n",
    "data=(\"this is python session\")\n",
    "#replace()\n",
    "res=data.replace('java','python')\n",
    "print(res)   "
   ]
  },
  {
   "cell_type": "code",
   "execution_count": 33,
   "id": "968d2183",
   "metadata": {},
   "outputs": [
    {
     "name": "stdout",
     "output_type": "stream",
     "text": [
      "HELLO WORLD\n",
      "hello world\n",
      "False\n",
      "True\n",
      "Hello world\n",
      "2\n",
      "False\n",
      "6\n",
      "8\n",
      "hello world\n",
      "['hello', 'world']\n"
     ]
    }
   ],
   "source": [
    "a='hello world'\n",
    "#uppercase\n",
    "print(a.upper())      #HELLO WORLD\n",
    "\n",
    "#lowercase\n",
    "print(a.lower())     #hello world\n",
    "\n",
    "#startwith\n",
    "print(a.startswith(\"i\"))     #false\n",
    "\n",
    "#endswith\n",
    "print(a.endswith(\"d\"))     #true\n",
    "\n",
    "#capitalize                #Hello world  \n",
    "print(a.capitalize())    #\n",
    "\n",
    "#count\n",
    "print(a.count('o'))    #2\n",
    "\n",
    "#istitle\n",
    "print(a.istitle())    #false\n",
    "\n",
    "#rindex\n",
    "print(a.index('wor'))   #6\n",
    "\n",
    "#rfind\n",
    "print(a.find('rld'))  #8\n",
    "\n",
    "#casefold\n",
    "print(a.casefold())  #hello world \n",
    "\n",
    "#split\n",
    "print(a.split())   #['hello', 'world']\n"
   ]
  },
  {
   "cell_type": "code",
   "execution_count": 34,
   "id": "84450230",
   "metadata": {},
   "outputs": [
    {
     "name": "stdout",
     "output_type": "stream",
     "text": [
      "[' ', ' ', 'c', 'd', 'e', 'f', 'h', 'l', 'o', 'o', 'r', 'r', 't', 'w']\n"
     ]
    }
   ],
   "source": [
    "#sorted()\n",
    "data=\"tech for world\"\n",
    "lst=sorted(data)\n",
    "print(lst)       #"
   ]
  },
  {
   "cell_type": "code",
   "execution_count": 35,
   "id": "f2aaaff4",
   "metadata": {},
   "outputs": [
    {
     "name": "stdout",
     "output_type": "stream",
     "text": [
      "14\n"
     ]
    }
   ],
   "source": [
    "#len()\n",
    "print(len(data))"
   ]
  },
  {
   "cell_type": "code",
   "execution_count": 37,
   "id": "539bc30f",
   "metadata": {},
   "outputs": [
    {
     "name": "stdout",
     "output_type": "stream",
     "text": [
      "w\n"
     ]
    }
   ],
   "source": [
    "#max()\n",
    "print(max(data))"
   ]
  },
  {
   "cell_type": "code",
   "execution_count": 38,
   "id": "648043ec",
   "metadata": {},
   "outputs": [
    {
     "name": "stdout",
     "output_type": "stream",
     "text": [
      " \n"
     ]
    }
   ],
   "source": [
    "#min\n",
    "print(min(data))"
   ]
  },
  {
   "cell_type": "code",
   "execution_count": 47,
   "id": "97740242",
   "metadata": {},
   "outputs": [
    {
     "name": "stdout",
     "output_type": "stream",
     "text": [
      "query found\n"
     ]
    }
   ],
   "source": [
    "#find \"to\" in given string\n",
    "s =\"wellcome to python\"\n",
    "if \"to\" in s:\n",
    "    print(\"query found\")"
   ]
  },
  {
   "cell_type": "code",
   "execution_count": null,
   "id": "06650dbd",
   "metadata": {},
   "outputs": [],
   "source": []
  }
 ],
 "metadata": {
  "kernelspec": {
   "display_name": "Python 3",
   "language": "python",
   "name": "python3"
  },
  "language_info": {
   "codemirror_mode": {
    "name": "ipython",
    "version": 3
   },
   "file_extension": ".py",
   "mimetype": "text/x-python",
   "name": "python",
   "nbconvert_exporter": "python",
   "pygments_lexer": "ipython3",
   "version": "3.8.8"
  }
 },
 "nbformat": 4,
 "nbformat_minor": 5
}
