{
 "cells": [
  {
   "cell_type": "code",
   "execution_count": 20,
   "id": "6b69bd38",
   "metadata": {},
   "outputs": [
    {
     "name": "stdout",
     "output_type": "stream",
     "text": [
      "Current Letter: p\n",
      "Current Letter: y\n",
      "Current Letter: t\n",
      "Current Letter: h\n",
      "Current Letter: n\n"
     ]
    }
   ],
   "source": [
    "#usage of continue\n",
    "# the continue statement returns control to the beginning of the while loop.\n",
    "# the continue statement rejects all the remaining statement in the current iteration of the loop and moves the control back\n",
    "# to the top of the loop\n",
    "for letter in 'python':\n",
    "    if letter == 'o':\n",
    "        continue\n",
    "    print(\"Current Letter:\",letter)"
   ]
  },
  {
   "cell_type": "code",
   "execution_count": 22,
   "id": "5fe9c3c4",
   "metadata": {},
   "outputs": [],
   "source": [
    "#pass keywoord\n",
    "#  the null statement the statement that will do nothing\n",
    "def myfuction():\n",
    "    pass\n",
    "\n",
    "a=22\n",
    "b=27\n",
    "if b>a:\n",
    "    pass"
   ]
  },
  {
   "cell_type": "code",
   "execution_count": 23,
   "id": "06537625",
   "metadata": {},
   "outputs": [
    {
     "name": "stdout",
     "output_type": "stream",
     "text": [
      "list of numbers from 10to 1:\n",
      "10987654321"
     ]
    }
   ],
   "source": [
    "#using while loop print numbers from 10 to 1\n",
    "i=10\n",
    "num=1\n",
    "print(\"list of numbers from 10to {0}:\".format(num))\n",
    "while(i>=num):\n",
    "    print(i,end='')\n",
    "    i=i-1"
   ]
  },
  {
   "cell_type": "code",
   "execution_count": 30,
   "id": "81604941",
   "metadata": {},
   "outputs": [
    {
     "name": "stdout",
     "output_type": "stream",
     "text": [
      "alpha\n",
      "beta\n",
      "gama\n",
      "1\n",
      "12\n",
      "23\n",
      "34\n",
      "45\n",
      "5"
     ]
    }
   ],
   "source": [
    "#try using for loop to loop over tuples,sets and dictionaries\n",
    "#iterating over list\n",
    "names=[\"alpha\",\"beta\",\"gama\"]\n",
    "for x in names:\n",
    "    print(x)\n",
    "\n",
    "lst=[1,2,3,4,5]\n",
    "for i in lst:\n",
    "    print(i)\n",
    "    print(i,end='')"
   ]
  },
  {
   "cell_type": "code",
   "execution_count": 34,
   "id": "657c7d08",
   "metadata": {},
   "outputs": [
    {
     "name": "stdout",
     "output_type": "stream",
     "text": [
      "colour\n",
      "fruit\n",
      "pet\n",
      "('colour', 'black')\n",
      "('fruit', 'apple')\n",
      "('pet', 'dog')\n",
      "black\n",
      "apple\n",
      "dog\n"
     ]
    }
   ],
   "source": [
    "#iterating over dict\n",
    "dct={'colour':'black','fruit':'apple','pet':'dog'}\n",
    "for key in dct.keys():\n",
    "    print(key)\n",
    "    \n",
    "for item in dct.items():\n",
    "    print(item)\n",
    "    \n",
    "for value in dct.values():\n",
    "    print(value)"
   ]
  },
  {
   "cell_type": "code",
   "execution_count": 35,
   "id": "3d8ccfc4",
   "metadata": {},
   "outputs": [
    {
     "name": "stdout",
     "output_type": "stream",
     "text": [
      "blue\n",
      "red\n",
      "green\n"
     ]
    }
   ],
   "source": [
    "#iterating over set\n",
    "colorSet = set([\"red\",\"green\",\"blue\"])\n",
    "for color in colorSet:\n",
    "    print(color)"
   ]
  },
  {
   "cell_type": "raw",
   "id": "0c1f95f0",
   "metadata": {},
   "source": [
    "\n"
   ]
  },
  {
   "cell_type": "code",
   "execution_count": 36,
   "id": "2f705d56",
   "metadata": {},
   "outputs": [
    {
     "name": "stdout",
     "output_type": "stream",
     "text": [
      "a\n",
      "l\n",
      "e\n",
      "x\n",
      "a\n"
     ]
    }
   ],
   "source": [
    "#iterating over string\n",
    "name=\"alexa\"\n",
    "for x in name:\n",
    "    print(x)"
   ]
  },
  {
   "cell_type": "code",
   "execution_count": null,
   "id": "a54b7a43",
   "metadata": {},
   "outputs": [],
   "source": []
  }
 ],
 "metadata": {
  "kernelspec": {
   "display_name": "Python 3",
   "language": "python",
   "name": "python3"
  },
  "language_info": {
   "codemirror_mode": {
    "name": "ipython",
    "version": 3
   },
   "file_extension": ".py",
   "mimetype": "text/x-python",
   "name": "python",
   "nbconvert_exporter": "python",
   "pygments_lexer": "ipython3",
   "version": "3.8.8"
  }
 },
 "nbformat": 4,
 "nbformat_minor": 5
}
