{
 "cells": [
  {
   "cell_type": "code",
   "execution_count": 6,
   "id": "5feb48e3",
   "metadata": {},
   "outputs": [
    {
     "name": "stdout",
     "output_type": "stream",
     "text": [
      "([1, 2], (3, 4), {5, 6}, {'a': 100, 'b': 200})\n",
      "<class 'tuple'>\n"
     ]
    }
   ],
   "source": [
    "#creation of tuple\n",
    "tup=([1,2],(3,4),{5,6},{'a':100,'b':200})\n",
    "print(tup)\n",
    "print(type(tup))"
   ]
  },
  {
   "cell_type": "code",
   "execution_count": 22,
   "id": "2d0d6470",
   "metadata": {},
   "outputs": [],
   "source": [
    "#tuple is an orderd collection of both homogeneous and heterogeneous data\n",
    "#indivisual element can be accesed using index of operator'[]'\n",
    "#slicing can be performed\n",
    "#tuple is immutable hence we can not make addition,removal,and modification of element"
   ]
  },
  {
   "cell_type": "code",
   "execution_count": 24,
   "id": "9e014cdd",
   "metadata": {},
   "outputs": [
    {
     "name": "stdout",
     "output_type": "stream",
     "text": [
      "[1, 2]\n",
      "2\n",
      "3\n",
      "(3, 4)\n",
      "2\n",
      "3\n",
      "{5, 6}\n",
      "2\n",
      "3\n",
      "{'a': 100, 'b': 200}\n",
      "2\n",
      "3\n"
     ]
    }
   ],
   "source": [
    "#accesing the elements\n",
    "tup=([1,2],(3,4),{5,6},{'a':100,'b':200})\n",
    "for i in range(len(tup)):\n",
    "    print(tup[i])\n",
    "    print(tup[0][1])\n",
    "    print(tup[1][0])"
   ]
  },
  {
   "cell_type": "code",
   "execution_count": 9,
   "id": "611330ba",
   "metadata": {},
   "outputs": [
    {
     "name": "stdout",
     "output_type": "stream",
     "text": [
      "(1, 2, 3, 4, 5, 6, 7, 8, 9, 10)\n"
     ]
    }
   ],
   "source": [
    "#concatination\n",
    "tup1=(1,2,3,4,5)\n",
    "tup2=(6,7,8,9,10)\n",
    "tup1=tup1+tup2\n",
    "print(tup1)"
   ]
  },
  {
   "cell_type": "code",
   "execution_count": 14,
   "id": "b2f0826e",
   "metadata": {},
   "outputs": [
    {
     "name": "stdout",
     "output_type": "stream",
     "text": [
      "(1, 2, 3, 4, 5)\n",
      "(1, 2, 3, 4, 5)\n",
      "(1, 2, 3, 4, 5)\n",
      "(1, 2, 3, 4, 5)\n",
      "(1, 2, 3, 4, 5)\n",
      "(1, 2, 3, 4, 5)\n",
      "(1, 2, 3, 4, 5)\n",
      "(1, 2, 3, 4, 5)\n"
     ]
    }
   ],
   "source": [
    "#copy of a tuple\n",
    "tup1=(1,2,3,4,5)\n",
    "tup2=tuple(tup1)\n",
    "print(tup1)\n",
    "print(tup2)\n",
    "\n",
    "#or using slicing\n",
    "tup2=tup1[::]\n",
    "print(tup1)\n",
    "print(tup2)\n",
    "\n",
    "#using copy\n",
    "import copy\n",
    "tup3=(1,2,3,4,5)\n",
    "tup4=copy.copy(tup3)\n",
    "print(tup3)\n",
    "print(tup4)\n",
    "\n",
    "#using deepcopy\n",
    "tup4=copy.deepcopy(tup3)\n",
    "print(tup3)\n",
    "print(tup4)"
   ]
  },
  {
   "cell_type": "code",
   "execution_count": 17,
   "id": "8f53e822",
   "metadata": {},
   "outputs": [],
   "source": [
    "#deleting entire tuple\n",
    "tup1=(1,2,3,4,5)\n",
    "del(tup1)"
   ]
  },
  {
   "cell_type": "code",
   "execution_count": 21,
   "id": "39b5f6ee",
   "metadata": {},
   "outputs": [
    {
     "name": "stdout",
     "output_type": "stream",
     "text": [
      "405\n",
      "11\n",
      "5\n",
      "Element 11 at index: 0\n",
      "Element 200 at index: 1\n",
      "Element 37 at index: 2\n",
      "Element 405 at index: 3\n",
      "Element 56 at index: 4\n"
     ]
    }
   ],
   "source": [
    "#built in functions\n",
    "tup=(11,200,37,405,56)\n",
    "print(max(tup))\n",
    "print(min(tup))\n",
    "print(len(tup))\n",
    "for j,i in enumerate(tup):\n",
    "    print('Element',i,'at index:',j)"
   ]
  },
  {
   "cell_type": "code",
   "execution_count": null,
   "id": "603f48de",
   "metadata": {},
   "outputs": [],
   "source": []
  }
 ],
 "metadata": {
  "kernelspec": {
   "display_name": "Python 3",
   "language": "python",
   "name": "python3"
  },
  "language_info": {
   "codemirror_mode": {
    "name": "ipython",
    "version": 3
   },
   "file_extension": ".py",
   "mimetype": "text/x-python",
   "name": "python",
   "nbconvert_exporter": "python",
   "pygments_lexer": "ipython3",
   "version": "3.8.8"
  }
 },
 "nbformat": 4,
 "nbformat_minor": 5
}
