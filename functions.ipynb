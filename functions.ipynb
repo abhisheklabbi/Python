{
 "cells": [
  {
   "cell_type": "code",
   "execution_count": 4,
   "id": "45250a65",
   "metadata": {},
   "outputs": [
    {
     "name": "stdout",
     "output_type": "stream",
     "text": [
      "['pythonsession', 20]\n"
     ]
    }
   ],
   "source": [
    "#return keyword\n",
    "#  return keyword is used to end the statements\n",
    "# the statements after the return statements are not executed\n",
    "# it can not be used outside the function\n",
    "def fun():\n",
    "    str=\"pythonsession\"\n",
    "    x=20\n",
    "    return[str, x];\n",
    "list=fun()\n",
    "print(list)"
   ]
  },
  {
   "cell_type": "code",
   "execution_count": null,
   "id": "d2afffec",
   "metadata": {},
   "outputs": [
    {
     "name": "stdout",
     "output_type": "stream",
     "text": [
      "Select operation\n",
      "1.Add\n",
      "2.substract\n",
      "3.multiply\n",
      "4.divide\n"
     ]
    }
   ],
   "source": [
    "def add(x,y):\n",
    "    return x+y\n",
    "def substract(x,y):\n",
    "    return x-y\n",
    "def multiply(x,y):\n",
    "    return x*y\n",
    "def divide(x,y):\n",
    "    return x/y\n",
    "print(\"Select operation\")\n",
    "print(\"1.Add\")\n",
    "print(\"2.substract\")\n",
    "print(\"3.multiply\")\n",
    "print(\"4.divide\")\n",
    "while True:\n",
    "    choice=input(\"enter choice(1/2/3/4): \")\n",
    "    if choice in ('1','2','3','4'):\n",
    "        num1=float(input(\"enter first number: \"))\n",
    "        num2=float(input(\"enter second number: \"))\n",
    "        if choice =='1':\n",
    "            print(num1,\"+\",num2,\"=\",add(num1,num2))\n",
    "        elif choice =='2':\n",
    "            print(num1,\"-\",num2,\"=\",substract(num1,num2))\n",
    "        elif choice =='3':\n",
    "            print(num1,\"*\",num2,\"=\",multiply(num1,num2))\n",
    "        elif choice =='4':\n",
    "            print(num1,\"/\",num2,\"=\",divide(num1,num2))  \n",
    "            next_calculation=input(\"lets do next calculation? (yes/no): \")\n",
    "        if next_calculation ==\"no\":\n",
    "                break\n",
    "else:\n",
    "    print(\"invalid syntax\")"
   ]
  },
  {
   "cell_type": "markdown",
   "id": "51bde44b",
   "metadata": {},
   "source": [
    " "
   ]
  }
 ],
 "metadata": {
  "kernelspec": {
   "display_name": "Python 3",
   "language": "python",
   "name": "python3"
  },
  "language_info": {
   "codemirror_mode": {
    "name": "ipython",
    "version": 3
   },
   "file_extension": ".py",
   "mimetype": "text/x-python",
   "name": "python",
   "nbconvert_exporter": "python",
   "pygments_lexer": "ipython3",
   "version": "3.8.8"
  }
 },
 "nbformat": 4,
 "nbformat_minor": 5
}
