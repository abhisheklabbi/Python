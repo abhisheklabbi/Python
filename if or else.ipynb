{
 "cells": [
  {
   "cell_type": "code",
   "execution_count": null,
   "id": "e51d1379",
   "metadata": {},
   "outputs": [
    {
     "name": "stdout",
     "output_type": "stream",
     "text": [
      "select operation.\n",
      "1.add\n",
      "2.subtract\n",
      "3.multiply\n",
      "4.divide\n"
     ]
    }
   ],
   "source": [
    "#calculator\n",
    "def add(x,y):\n",
    "    return x+y\n",
    "def subtract(x,y):\n",
    "    return x-y\n",
    "def multiplication(x,y):\n",
    "    return x*y\n",
    "def division(x,y):\n",
    "    return x/y\n",
    "print(\"select operation.\")\n",
    "print(\"1.add\")\n",
    "print(\"2.subtract\")\n",
    "print(\"3.multiply\")\n",
    "print(\"4.divide\")\n",
    "while True:\n",
    "    choice=input(\"enter choice(1/2/3/4):\")\n",
    "    num1=float(input(\"enter first number: \"))\n",
    "    num2=float(input(\"enter second number: \"))\n",
    "    if choice =='1':\n",
    "        print(num1,\"+\",num2,\"=\",add(num1,num2))\n",
    "        \n",
    "    elif choice =='2':\n",
    "        print(num1,\"-\",num2,\"=\",subtract(num1,num2))    \n",
    "    \n",
    "    elif choice =='3':\n",
    "        print(num1,\"*\",num2,\"=\",multiply(num1,num2))\n",
    "        \n",
    "    elif choice =='4':\n",
    "        print(num1,\"/\",num2,\"=\",divide(num1,num2)) \n",
    "        next_calculation = input(\"let's do next calculation?(yes/no): \")    \n",
    "        \n",
    "        if next_calculation == \"no\":\n",
    "            break\n",
    "        else:\n",
    "                print(\"invalid input\")"
   ]
  },
  {
   "cell_type": "code",
   "execution_count": null,
   "id": "a5489fb6",
   "metadata": {},
   "outputs": [],
   "source": []
  }
 ],
 "metadata": {
  "kernelspec": {
   "display_name": "Python 3",
   "language": "python",
   "name": "python3"
  },
  "language_info": {
   "codemirror_mode": {
    "name": "ipython",
    "version": 3
   },
   "file_extension": ".py",
   "mimetype": "text/x-python",
   "name": "python",
   "nbconvert_exporter": "python",
   "pygments_lexer": "ipython3",
   "version": "3.8.8"
  }
 },
 "nbformat": 4,
 "nbformat_minor": 5
}
