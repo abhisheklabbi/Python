{
 "cells": [
  {
   "cell_type": "code",
   "execution_count": 2,
   "id": "bfa60515",
   "metadata": {},
   "outputs": [
    {
     "name": "stdout",
     "output_type": "stream",
     "text": [
      "the sum of lst eelement is:17\n",
      "the maximum element of the lst is:6\n"
     ]
    }
   ],
   "source": [
    "#reduce()\n",
    "# it is used to apply a particular function passed in its argrument to all of the list elements \n",
    "import functools\n",
    "lst=[1,3,5,6,2]\n",
    "print(\"the sum of lst eelement is:\",end=\"\")\n",
    "print(functools.reduce(lambda a,b: a+b, lst))\n",
    "print(\"the maximum element of the lst is:\",end=\"\")\n",
    "print(functools.reduce(lambda a,b:a if a>b else b,lst))\n"
   ]
  },
  {
   "cell_type": "code",
   "execution_count": 8,
   "id": "e379b069",
   "metadata": {},
   "outputs": [
    {
     "name": "stdout",
     "output_type": "stream",
     "text": [
      "(('alexa', 'john'), ('jhonny', 'vicky'), ('mike', 'charles'))\n"
     ]
    }
   ],
   "source": [
    "#zip\n",
    "# it returns zip object which is an iterator of tuple \n",
    "#where as the first item in each passed iterator is praised together and \n",
    "#the second item in each passed iterator are paired toghether\n",
    "a=(\"alexa\",\"jhonny\",\"mike\")\n",
    "b=(\"john\",\"vicky\",\"charles\",\"jenny\")\n",
    "x=zip(a,b)\n",
    "print (tuple(x))"
   ]
  },
  {
   "cell_type": "code",
   "execution_count": 9,
   "id": "10467774",
   "metadata": {},
   "outputs": [
    {
     "name": "stdout",
     "output_type": "stream",
     "text": [
      "[(0, 'apple'), (1, 'banan'), (2, 'cherry')]\n"
     ]
    }
   ],
   "source": [
    "#enumerate()\n",
    "#the enumerate() function takes a collection (ex tuple) and returns it as an enumerate object\n",
    "# this function adds a counter as the key of the enumerate object\n",
    "x=('apple','banan','cherry')\n",
    "y= enumerate(x)\n",
    "print(list(y))"
   ]
  },
  {
   "cell_type": "code",
   "execution_count": null,
   "id": "9a590efe",
   "metadata": {},
   "outputs": [],
   "source": []
  }
 ],
 "metadata": {
  "kernelspec": {
   "display_name": "Python 3",
   "language": "python",
   "name": "python3"
  },
  "language_info": {
   "codemirror_mode": {
    "name": "ipython",
    "version": 3
   },
   "file_extension": ".py",
   "mimetype": "text/x-python",
   "name": "python",
   "nbconvert_exporter": "python",
   "pygments_lexer": "ipython3",
   "version": "3.8.8"
  }
 },
 "nbformat": 4,
 "nbformat_minor": 5
}
